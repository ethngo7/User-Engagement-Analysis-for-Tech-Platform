{
 "cells": [
  {
   "cell_type": "markdown",
   "id": "5f0f7688-6a19-4f9a-aad3-42c542aefb7b",
   "metadata": {},
   "source": [
    "# User Engagement Analysis for Tech Platform 👨🏽‍💻"
   ]
  },
  {
   "cell_type": "markdown",
   "id": "ca86598e-ee4b-4435-a72d-bb04185cf446",
   "metadata": {},
   "source": [
    "## Introduction :p"
   ]
  },
  {
   "cell_type": "markdown",
   "id": "b4accd43-79af-4ca2-ae93-4b22dc6cbf04",
   "metadata": {},
   "source": [
    "In this simple SQL-based project, I will create my own dataset in order to simulate analyzing user engagement. I will create a local SQLite database within Jupyter Notebook. I used queries to analyze users, such as users per gender, session time per device, and the most viewed pages of a website. All data is created and not imported/used from elsewhere.   "
   ]
  },
  {
   "cell_type": "markdown",
   "id": "4f0c6f62-fe0b-4605-a5dc-dbb60ce47d49",
   "metadata": {},
   "source": [
    "## Load SQL Extension ..."
   ]
  },
  {
   "cell_type": "code",
   "execution_count": 100,
   "id": "a3596afa-b2f8-4512-a730-fc373d674a22",
   "metadata": {},
   "outputs": [
    {
     "name": "stdout",
     "output_type": "stream",
     "text": [
      "The sql extension is already loaded. To reload it, use:\n",
      "  %reload_ext sql\n"
     ]
    }
   ],
   "source": [
    "%load_ext sql"
   ]
  },
  {
   "cell_type": "code",
   "execution_count": 102,
   "id": "2d25e5ef-e4ba-43a8-8a2d-173624694c5c",
   "metadata": {},
   "outputs": [],
   "source": [
    "# Create SQLite Database\n",
    "\n",
    "%sql sqlite://"
   ]
  },
  {
   "cell_type": "code",
   "execution_count": 159,
   "id": "17af04af-77f8-4629-ac14-7bbe41bfc893",
   "metadata": {},
   "outputs": [
    {
     "name": "stdout",
     "output_type": "stream",
     "text": [
      " * sqlite://\n",
      "(sqlite3.OperationalError) table Users already exists\n",
      "[SQL: CREATE TABLE Users (\n",
      "    user_id INTEGER PRIMARY KEY,\n",
      "    username TEXT,\n",
      "    signup_date DATE,\n",
      "    age INTEGER,\n",
      "    gender TEXT,\n",
      "    location TEXT\n",
      ");]\n",
      "(Background on this error at: https://sqlalche.me/e/20/e3q8)\n"
     ]
    }
   ],
   "source": [
    "%%sql\n",
    "CREATE TABLE Users (\n",
    "    user_id INTEGER PRIMARY KEY,\n",
    "    username TEXT,\n",
    "    signup_date DATE,\n",
    "    age INTEGER,\n",
    "    gender TEXT,\n",
    "    location TEXT\n",
    ");"
   ]
  },
  {
   "cell_type": "code",
   "execution_count": 106,
   "id": "eac88cef-d749-44e4-8183-a3047df1df0a",
   "metadata": {},
   "outputs": [
    {
     "name": "stdout",
     "output_type": "stream",
     "text": [
      " * sqlite://\n",
      "(sqlite3.OperationalError) table Sessions already exists\n",
      "[SQL: CREATE TABLE Sessions (\n",
      "    session_id INTEGER PRIMARY KEY,\n",
      "    user_id INTEGER,\n",
      "    start_time DATETIME,\n",
      "    end_time DATETIME,\n",
      "    device TEXT,\n",
      "    os TEXT,\n",
      "    browser TEXT,\n",
      "    FOREIGN KEY (user_id) REFERENCES Users(user_id)\n",
      ");]\n",
      "(Background on this error at: https://sqlalche.me/e/20/e3q8)\n"
     ]
    }
   ],
   "source": [
    "%%sql\n",
    "CREATE TABLE Sessions (\n",
    "    session_id INTEGER PRIMARY KEY,\n",
    "    user_id INTEGER,\n",
    "    start_time DATETIME,\n",
    "    end_time DATETIME,\n",
    "    device TEXT,\n",
    "    os TEXT,\n",
    "    browser TEXT,\n",
    "    FOREIGN KEY (user_id) REFERENCES Users(user_id)\n",
    ");"
   ]
  },
  {
   "cell_type": "code",
   "execution_count": 108,
   "id": "fd057d98-44e9-4868-a41d-1c820a0cdd24",
   "metadata": {},
   "outputs": [
    {
     "name": "stdout",
     "output_type": "stream",
     "text": [
      " * sqlite://\n",
      "(sqlite3.OperationalError) table PageViews already exists\n",
      "[SQL: CREATE TABLE PageViews (\n",
      "    pageview_id INTEGER PRIMARY KEY,\n",
      "    session_id INTEGER,\n",
      "    user_id INTEGER,\n",
      "    page_url TEXT,\n",
      "    timestamp DATETIME,\n",
      "    FOREIGN KEY (session_id) REFERENCES Sessions(session_id),\n",
      "    FOREIGN KEY (user_id) REFERENCES Users(user_id)\n",
      ");]\n",
      "(Background on this error at: https://sqlalche.me/e/20/e3q8)\n"
     ]
    }
   ],
   "source": [
    "%%sql\n",
    "CREATE TABLE PageViews (\n",
    "    pageview_id INTEGER PRIMARY KEY,\n",
    "    session_id INTEGER,\n",
    "    user_id INTEGER,\n",
    "    page_url TEXT,\n",
    "    timestamp DATETIME,\n",
    "    FOREIGN KEY (session_id) REFERENCES Sessions(session_id),\n",
    "    FOREIGN KEY (user_id) REFERENCES Users(user_id)\n",
    ");"
   ]
  },
  {
   "cell_type": "markdown",
   "id": "772c13d1-6cdf-41d1-bbb7-1caf6984da9f",
   "metadata": {},
   "source": [
    "## Insert Sample Data 💽"
   ]
  },
  {
   "cell_type": "code",
   "execution_count": 111,
   "id": "2abf8a16-3aab-4833-b8c5-6f54aacf0711",
   "metadata": {},
   "outputs": [
    {
     "name": "stdout",
     "output_type": "stream",
     "text": [
      " * sqlite://\n",
      "5 rows affected.\n"
     ]
    },
    {
     "data": {
      "text/plain": [
       "[]"
      ]
     },
     "execution_count": 111,
     "metadata": {},
     "output_type": "execute_result"
    }
   ],
   "source": [
    "%%sql\n",
    "INSERT INTO Users (username, signup_date, age, gender, location) VALUES\n",
    "('alice', '2023-01-15', 28, 'Female', 'New York'),\n",
    "('bob', '2023-02-20', 34, 'Male', 'San Francisco'),\n",
    "('carol', '2023-03-05', 22, 'Female', 'Chicago'),\n",
    "('dave', '2023-04-12', 30, 'Male', 'Los Angeles'),\n",
    "('eve', '2023-05-01', 27, 'Female', 'Seattle');"
   ]
  },
  {
   "cell_type": "code",
   "execution_count": 113,
   "id": "34b151ce-dbde-423a-a9aa-fc0345e82558",
   "metadata": {},
   "outputs": [
    {
     "name": "stdout",
     "output_type": "stream",
     "text": [
      " * sqlite://\n",
      "5 rows affected.\n"
     ]
    },
    {
     "data": {
      "text/plain": [
       "[]"
      ]
     },
     "execution_count": 113,
     "metadata": {},
     "output_type": "execute_result"
    }
   ],
   "source": [
    "%%sql\n",
    "INSERT INTO Sessions (user_id, start_time, end_time, device, os, browser) VALUES\n",
    "(1, '2023-09-01 10:00:00', '2023-09-01 10:30:00', 'Desktop', 'Windows', 'Chrome'),\n",
    "(2, '2023-09-01 11:00:00', '2023-09-01 11:20:00', 'Mobile', 'iOS', 'Safari'),\n",
    "(3, '2023-09-02 14:00:00', '2023-09-02 14:45:00', 'Tablet', 'Android', 'Chrome'),\n",
    "(4, '2023-09-02 15:30:00', '2023-09-02 16:10:00', 'Desktop', 'MacOS', 'Firefox'),\n",
    "(5, '2023-09-03 09:00:00', '2023-09-03 09:50:00', 'Mobile', 'Android', 'Chrome');"
   ]
  },
  {
   "cell_type": "code",
   "execution_count": 115,
   "id": "25688e11-09b0-4428-b8f2-1009b81ca2c2",
   "metadata": {},
   "outputs": [
    {
     "name": "stdout",
     "output_type": "stream",
     "text": [
      " * sqlite://\n",
      "5 rows affected.\n"
     ]
    },
    {
     "data": {
      "text/plain": [
       "[]"
      ]
     },
     "execution_count": 115,
     "metadata": {},
     "output_type": "execute_result"
    }
   ],
   "source": [
    "%%sql\n",
    "INSERT INTO PageViews (session_id, user_id, page_url, timestamp) VALUES\n",
    "(1, 1, 'homepage', '2023-09-01 10:05:00'),\n",
    "(1, 1, 'product_page', '2023-09-01 10:10:00'),\n",
    "(2, 2, 'homepage', '2023-09-01 11:05:00'),\n",
    "(3, 3, 'search_results', '2023-09-02 14:15:00'),\n",
    "(4, 4, 'checkout', '2023-09-02 15:35:00');"
   ]
  },
  {
   "cell_type": "markdown",
   "id": "e47d21ad-9cc3-4713-8be2-bbe88020bd3d",
   "metadata": {},
   "source": [
    "## Analyzing Data 🔎"
   ]
  },
  {
   "cell_type": "markdown",
   "id": "fed828a1-b83b-4883-a04b-ecf3441fc462",
   "metadata": {},
   "source": [
    "### Count Total Users by Gender ✌🏽"
   ]
  },
  {
   "cell_type": "code",
   "execution_count": 119,
   "id": "b7a081e6-5eb3-440a-8cee-a6847698be81",
   "metadata": {},
   "outputs": [
    {
     "name": "stdout",
     "output_type": "stream",
     "text": [
      " * sqlite://\n",
      "Done.\n"
     ]
    },
    {
     "data": {
      "text/html": [
       "<table>\n",
       "    <thead>\n",
       "        <tr>\n",
       "            <th>gender</th>\n",
       "            <th>total_users</th>\n",
       "        </tr>\n",
       "    </thead>\n",
       "    <tbody>\n",
       "        <tr>\n",
       "            <td>Female</td>\n",
       "            <td>6</td>\n",
       "        </tr>\n",
       "        <tr>\n",
       "            <td>Male</td>\n",
       "            <td>4</td>\n",
       "        </tr>\n",
       "    </tbody>\n",
       "</table>"
      ],
      "text/plain": [
       "[('Female', 6), ('Male', 4)]"
      ]
     },
     "execution_count": 119,
     "metadata": {},
     "output_type": "execute_result"
    }
   ],
   "source": [
    "%%sql\n",
    "SELECT gender, COUNT(*) AS total_users\n",
    "FROM Users\n",
    "GROUP BY gender;"
   ]
  },
  {
   "cell_type": "markdown",
   "id": "9803fe4c-f325-421b-835c-9e1686681bdd",
   "metadata": {},
   "source": [
    "### Avg. Session Duration by Device ⏳"
   ]
  },
  {
   "cell_type": "code",
   "execution_count": 121,
   "id": "8f15c0ea-e6b4-4458-8d1d-fe7b023b1689",
   "metadata": {},
   "outputs": [
    {
     "name": "stdout",
     "output_type": "stream",
     "text": [
      " * sqlite://\n",
      "Done.\n"
     ]
    },
    {
     "data": {
      "text/html": [
       "<table>\n",
       "    <thead>\n",
       "        <tr>\n",
       "            <th>device</th>\n",
       "            <th>avg_session_minutes</th>\n",
       "        </tr>\n",
       "    </thead>\n",
       "    <tbody>\n",
       "        <tr>\n",
       "            <td>Desktop</td>\n",
       "            <td>34.999999925494194</td>\n",
       "        </tr>\n",
       "        <tr>\n",
       "            <td>Mobile</td>\n",
       "            <td>34.99999959021807</td>\n",
       "        </tr>\n",
       "        <tr>\n",
       "            <td>Tablet</td>\n",
       "            <td>45.0</td>\n",
       "        </tr>\n",
       "    </tbody>\n",
       "</table>"
      ],
      "text/plain": [
       "[('Desktop', 34.999999925494194),\n",
       " ('Mobile', 34.99999959021807),\n",
       " ('Tablet', 45.0)]"
      ]
     },
     "execution_count": 121,
     "metadata": {},
     "output_type": "execute_result"
    }
   ],
   "source": [
    "%%sql\n",
    "SELECT device, AVG(JULIANDAY(end_time) - JULIANDAY(start_time)) * 24 * 60 AS avg_session_minutes\n",
    "FROM Sessions\n",
    "GROUP BY device;"
   ]
  },
  {
   "cell_type": "markdown",
   "id": "0b71dae5-44d2-45d3-8455-919cffa615ce",
   "metadata": {},
   "source": [
    "### Most Viewed Pages 🥸"
   ]
  },
  {
   "cell_type": "code",
   "execution_count": 123,
   "id": "68b7a58f-f7df-43a1-b9ce-bfcfb6d6def0",
   "metadata": {},
   "outputs": [
    {
     "name": "stdout",
     "output_type": "stream",
     "text": [
      " * sqlite://\n",
      "Done.\n"
     ]
    },
    {
     "data": {
      "text/html": [
       "<table>\n",
       "    <thead>\n",
       "        <tr>\n",
       "            <th>page_url</th>\n",
       "            <th>views</th>\n",
       "        </tr>\n",
       "    </thead>\n",
       "    <tbody>\n",
       "        <tr>\n",
       "            <td>homepage</td>\n",
       "            <td>4</td>\n",
       "        </tr>\n",
       "        <tr>\n",
       "            <td>search_results</td>\n",
       "            <td>2</td>\n",
       "        </tr>\n",
       "        <tr>\n",
       "            <td>product_page</td>\n",
       "            <td>2</td>\n",
       "        </tr>\n",
       "        <tr>\n",
       "            <td>checkout</td>\n",
       "            <td>2</td>\n",
       "        </tr>\n",
       "    </tbody>\n",
       "</table>"
      ],
      "text/plain": [
       "[('homepage', 4), ('search_results', 2), ('product_page', 2), ('checkout', 2)]"
      ]
     },
     "execution_count": 123,
     "metadata": {},
     "output_type": "execute_result"
    }
   ],
   "source": [
    "%%sql\n",
    "SELECT page_url,COUNT(*) AS views\n",
    "FROM PageViews\n",
    "GROUP BY page_url\n",
    "ORDER BY views DESC;"
   ]
  },
  {
   "cell_type": "markdown",
   "id": "b2e764bf-fc17-4d93-a7e2-ad7a63d2c4c7",
   "metadata": {},
   "source": [
    "## Visualization 🌅"
   ]
  },
  {
   "cell_type": "code",
   "execution_count": 125,
   "id": "4c4f3162-1ae7-4d28-9020-37f1a4638cbc",
   "metadata": {},
   "outputs": [
    {
     "data": {
      "image/png": "[encoded data removed]",
      "text/plain": [
       "<Figure size 600x500 with 1 Axes>"
      ]
     },
     "metadata": {},
     "output_type": "display_data"
    }
   ],
   "source": [
    "import pandas as pd\n",
    "import sqlite3\n",
    "import matplotlib.pyplot as plt\n",
    "\n",
    "# Connect to the SQLite database (in-memory already, so no need to create one)\n",
    "conn = sqlite3.connect(':memory:')\n",
    "cursor = conn.cursor()\n",
    "\n",
    "# Creates tables and inserts sample data\n",
    "cursor.execute('''CREATE TABLE Users (\n",
    "                     user_id INTEGER PRIMARY KEY,\n",
    "                     username TEXT,\n",
    "                     signup_date DATE,\n",
    "                     age INTEGER,\n",
    "                     gender TEXT,\n",
    "                     location TEXT\n",
    "                 );''')\n",
    "\n",
    "cursor.execute('''CREATE TABLE Sessions (\n",
    "                     session_id INTEGER PRIMARY KEY,\n",
    "                     user_id INTEGER,\n",
    "                     start_time DATETIME,\n",
    "                     end_time DATETIME,\n",
    "                     device TEXT,\n",
    "                     os TEXT,\n",
    "                     browser TEXT,\n",
    "                     FOREIGN KEY (user_id) REFERENCES Users(user_id)\n",
    "                 );''')\n",
    "\n",
    "cursor.execute('''CREATE TABLE PageViews (\n",
    "                     pageview_id INTEGER PRIMARY KEY,\n",
    "                     session_id INTEGER,\n",
    "                     user_id INTEGER,\n",
    "                     page_url TEXT,\n",
    "                     timestamp DATETIME,\n",
    "                     FOREIGN KEY (session_id) REFERENCES Sessions(session_id),\n",
    "                     FOREIGN KEY (user_id) REFERENCES Users(user_id)\n",
    "                 );''')\n",
    "\n",
    "# Inserts sample data\n",
    "cursor.executescript('''\n",
    "    INSERT INTO Users (username, signup_date, age, gender, location) VALUES\n",
    "    ('alice', '2023-01-15', 28, 'Female', 'New York'),\n",
    "    ('bob', '2023-02-20', 34, 'Male', 'San Francisco'),\n",
    "    ('carol', '2023-03-05', 22, 'Female', 'Chicago'),\n",
    "    ('dave', '2023-04-12', 30, 'Male', 'Los Angeles'),\n",
    "    ('eve', '2023-05-01', 27, 'Female', 'Seattle');\n",
    "\n",
    "    INSERT INTO Sessions (user_id, start_time, end_time, device, os, browser) VALUES\n",
    "    (1, '2023-09-01 10:00:00', '2023-09-01 10:30:00', 'Desktop', 'Windows', 'Chrome'),\n",
    "    (2, '2023-09-01 11:00:00', '2023-09-01 11:20:00', 'Mobile', 'iOS', 'Safari'),\n",
    "    (3, '2023-09-02 14:00:00', '2023-09-02 14:45:00', 'Tablet', 'Android', 'Chrome'),\n",
    "    (4, '2023-09-02 15:30:00', '2023-09-02 16:10:00', 'Desktop', 'MacOS', 'Firefox'),\n",
    "    (5, '2023-09-03 09:00:00', '2023-09-03 09:50:00', 'Mobile', 'Android', 'Chrome');\n",
    "\n",
    "    INSERT INTO PageViews (session_id, user_id, page_url, timestamp) VALUES\n",
    "    (1, 1, 'homepage', '2023-09-01 10:05:00'),\n",
    "    (1, 1, 'product_page', '2023-09-01 10:10:00'),\n",
    "    (2, 2, 'homepage', '2023-09-01 11:05:00'),\n",
    "    (3, 3, 'search_results', '2023-09-02 14:15:00'),\n",
    "    (4, 4, 'checkout', '2023-09-02 15:35:00');\n",
    "''')\n",
    "\n",
    "# Query to count total users by gender\n",
    "query_gender = 'SELECT gender, COUNT(*) AS total_users FROM Users GROUP BY gender;'\n",
    "df_gender = pd.read_sql_query(query_gender, conn)\n",
    "\n",
    "# Plots the total users by gender\n",
    "plt.figure(figsize=(6, 5))\n",
    "plt.bar(df_gender['gender'], df_gender['total_users'], color=['skyblue', 'orange'])\n",
    "plt.xlabel('Gender')\n",
    "plt.ylabel('Total Users')\n",
    "plt.title('Total Users by Gender')\n",
    "plt.show()\n"
   ]
  },
  {
   "cell_type": "code",
   "execution_count": 77,
   "id": "6ca0737e-b4fd-4764-9fd4-9906a8683375",
   "metadata": {},
   "outputs": [
    {
     "data": {
      "image/png": "[encoded data removed]",
      "text/plain": [
       "<Figure size 800x500 with 1 Axes>"
      ]
     },
     "metadata": {},
     "output_type": "display_data"
    }
   ],
   "source": [
    "# Query to calculate average session duration by device\n",
    "query_device = '''SELECT device, AVG((JULIANDAY(end_time) - JULIANDAY(start_time)) * 24 * 60) AS avg_session_minutes\n",
    "                  FROM Sessions\n",
    "                  GROUP BY device;'''\n",
    "df_device = pd.read_sql_query(query_device, conn)\n",
    "\n",
    "# Plots the average session duration by device\n",
    "plt.figure(figsize=(8, 5))\n",
    "plt.bar(df_device['device'], df_device['avg_session_minutes'], color='lightcoral')\n",
    "plt.xlabel('Device')\n",
    "plt.ylabel('Average Session Duration (Minutes)')\n",
    "plt.title('Average Session Duration by Device')\n",
    "plt.show()\n"
   ]
  },
  {
   "cell_type": "code",
   "execution_count": 127,
   "id": "b933a808-fe91-49fa-a525-11e35c50e709",
   "metadata": {},
   "outputs": [
    {
     "data": {
      "image/png": "[encoded data removed]",
      "text/plain": [
       "<Figure size 800x500 with 1 Axes>"
      ]
     },
     "metadata": {},
     "output_type": "display_data"
    }
   ],
   "source": [
    "# Query for the most frequently viewed pages\n",
    "query_pages = '''SELECT page_url, COUNT(*) AS views\n",
    "                 FROM PageViews\n",
    "                 GROUP BY page_url\n",
    "                 ORDER BY views DESC;'''\n",
    "df_pages = pd.read_sql_query(query_pages, conn)\n",
    "\n",
    "# Plots the most frequently viewed pages\n",
    "plt.figure(figsize=(8, 5))\n",
    "plt.bar(df_pages['page_url'], df_pages['views'], color='lightgreen')\n",
    "plt.xlabel('Page URL')\n",
    "plt.ylabel('Views')\n",
    "plt.title('Most Frequently Viewed Pages')\n",
    "plt.show()\n"
   ]
  },
  {
   "cell_type": "code",
   "execution_count": 147,
   "id": "daef0203-2367-4bf3-8072-2cffe53b8d95",
   "metadata": {},
   "outputs": [],
   "source": [
    "# Exports the datafram to a CSV file\n",
    "df_gender.to_csv('user_gender_distribution.csv', index=False)"
   ]
  },
  {
   "cell_type": "markdown",
   "id": "fe86c519-dcf7-44b7-b526-c4905148ab7a",
   "metadata": {},
   "source": [
    "## Summary Report :p"
   ]
  },
  {
   "cell_type": "markdown",
   "id": "d9e4719b-e7fb-40d1-94ec-394af70948cd",
   "metadata": {},
   "source": [
    "This tech platform has very few users as seen from the data. To summarize: there are more female users than male, there are more tablet users than other devices, and the most viewed page is the homepage. Need to send this report to marketing so they can obtain more users for the company."
   ]
  },
  {
   "cell_type": "code",
   "execution_count": null,
   "id": "c4a10468-ea10-4038-8738-0b58f64cffca",
   "metadata": {},
   "outputs": [],
   "source": []
  }
 ],
 "metadata": {
  "kernelspec": {
   "display_name": "Python 3 (ipykernel)",
   "language": "python",
   "name": "python3"
  },
  "language_info": {
   "codemirror_mode": {
    "name": "ipython",
    "version": 3
   },
   "file_extension": ".py",
   "mimetype": "text/x-python",
   "name": "python",
   "nbconvert_exporter": "python",
   "pygments_lexer": "ipython3",
   "version": "3.12.4"
  }
 },
 "nbformat": 4,
 "nbformat_minor": 5
}
